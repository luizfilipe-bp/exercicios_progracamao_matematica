{
  "nbformat": 4,
  "nbformat_minor": 0,
  "metadata": {
    "colab": {
      "provenance": []
    },
    "kernelspec": {
      "name": "python3",
      "display_name": "Python 3"
    },
    "language_info": {
      "name": "python"
    }
  },
  "cells": [
    {
      "cell_type": "markdown",
      "source": [
        "# Alunos\n",
        "\n",
        "| Nome                        | Matrícula |\n",
        "|-----------------------------|-----------|\n",
        "| Luiz Filipe Bartelega Penha | 202111082 |\n",
        "| Vitor Pires Zini            | 202110169 |"
      ],
      "metadata": {
        "id": "I00uxtBdTxrR"
      }
    },
    {
      "cell_type": "markdown",
      "source": [
        "# Problema 2"
      ],
      "metadata": {
        "id": "Kh_7V1Rtk7g6"
      }
    },
    {
      "cell_type": "markdown",
      "source": [
        "Uma certa fábrica de camisetas deseja aproveitar as finais de um campeonato de futebol para vender camisetas dos times envolvidos. Os jogos vão durar quatro semanas. O custo de produção de cada camiseta é de R\\$ 2,00 nas duas primeiras semanas e R\\$ 2,50 nas duas últimas, quando a concorrência demandar por material no mercado. A demanda semanal de camisetas será de 5.000, 10.000, 30.000 e 60.000. A capacidade máxima de produção da empresa é de 25.000 camisetas semanalmente. Na primeira e na segunda semanas, a empresa poderá contratar horas extras de serviço e fabricar mais 10.000 camisetas em cada semana. Nesse caso, o custo de produção sobe para R\\$ 2,80. O excesso de produção pode ser estocado a um custo de R\\$ 0,20 por unidade por semana. Formule um modelo que minimize os custos."
      ],
      "metadata": {
        "id": "dDJK7w0BlBpc"
      }
    },
    {
      "cell_type": "markdown",
      "source": [
        "# Modelagem matemática\n",
        "\n",
        "A seguir, apresentaremos a modelagem matemática deste problema, especificando os principais elementos da modelagem de um problema de programação matemática: $(i)$ parâmetros (dados); $(ii)$ variáveis de decisão; $(iii)$ modelagem, composta por uma função objetivo, restrições do problema e restrições de domínio das variáveis de decisão."
      ],
      "metadata": {
        "id": "kh4HOLnFt9Ys"
      }
    },
    {
      "cell_type": "markdown",
      "source": [
        "## Declaração dos parâmetros\n",
        "\n",
        "* $T$: total de semanas.\n",
        "* $c_{t} \\in \\mathbb{R}_+$: custo de produção de camisetas na semana $t \\in T$.  \n",
        "* $C_{t} \\in \\mathbb{R}_+$: custo de produção de camisetas na semana $t \\in T$ com hora extra.  \n",
        "* $d_{t} \\in \\mathbb{N}$: demanda de camisetas na semana $t \\in T$.\n",
        "* Produção de camisetas por semana: $25.000$.\n",
        "* Custo de estocagem de camisetas por semana: $R\\$0,20$."
      ],
      "metadata": {
        "id": "GBnEHshempPV"
      }
    },
    {
      "cell_type": "code",
      "source": [
        "semanas = [1, 2, 3, 4]\n",
        "\n",
        "custos_de_producao = {\n",
        "  1: 2,\n",
        "  2: 2,\n",
        "  3: 2.5,\n",
        "  4: 2.5,\n",
        "}\n",
        "\n",
        "custos_de_producao_extra = {\n",
        "  1: 2.8,\n",
        "  2: 2.8,\n",
        "  3: 0,\n",
        "  4: 0,\n",
        "}\n",
        "\n",
        "demanda = {\n",
        "  1: 5000,\n",
        "  2: 10000,\n",
        "  3: 30000,\n",
        "  4: 60000,\n",
        "}"
      ],
      "metadata": {
        "id": "4FmTDti8s46a"
      },
      "execution_count": null,
      "outputs": []
    },
    {
      "cell_type": "markdown",
      "source": [
        "## Variáveis de decisão\n",
        "\n",
        "* $x_{t} \\ge 0$: quantidade de camisetas produzidas na semana $t \\in T$ sem hora extra.\n",
        "* $y_{t} \\ge 0$: quantidade de camisetas produzidas na semana $t \\in T$ com hora extra.\n",
        "* $w_{t} \\ge 0$: quantidade de camisetas estocadas no fim da semana $t \\in T$.  "
      ],
      "metadata": {
        "id": "0oBPyrUgrsdy"
      }
    },
    {
      "cell_type": "markdown",
      "source": [
        "## Função objetivo\n",
        "\n",
        "* Minimização dos custos de produção e estocagem de camisetas: $\\min \\sum_{t \\in T} (c_{t}x_{t} + C_{t}y_{t} + 0,2w_{t})$"
      ],
      "metadata": {
        "id": "Dy7125_esILJ"
      }
    },
    {
      "cell_type": "markdown",
      "source": [
        "## Restrições\n",
        "\n",
        "- Restrição 1: Número máximo de camisetas que podem ser produzidas por semana.\n",
        "\\begin{equation}\n",
        "x_t \\le 25000\n",
        "\\end{equation}\n",
        "\n",
        "- Restrição 2: Controle de estoque e demanda\n",
        "\\begin{equation}\n",
        "x_t + w_{t-1} - d_t \\ge e_t\n",
        "\\end{equation}\n"
      ],
      "metadata": {
        "id": "O2Siqs3Ju80M"
      }
    },
    {
      "cell_type": "markdown",
      "source": [
        "#Resolvendo o Problema"
      ],
      "metadata": {
        "id": "OaMOEiNn0gsD"
      }
    },
    {
      "cell_type": "markdown",
      "source": [
        "## Instalação da biblioteca PuLP"
      ],
      "metadata": {
        "id": "y61N8uhP0npX"
      }
    },
    {
      "cell_type": "code",
      "source": [
        "!pip install pulp\n",
        "import pulp"
      ],
      "metadata": {
        "colab": {
          "base_uri": "https://localhost:8080/"
        },
        "id": "H_xIoAoM0uJs",
        "outputId": "0d493929-0e70-4fd3-f5bd-c8e2610fd13c"
      },
      "execution_count": null,
      "outputs": [
        {
          "output_type": "stream",
          "name": "stdout",
          "text": [
            "Requirement already satisfied: pulp in /usr/local/lib/python3.10/dist-packages (2.9.0)\n"
          ]
        }
      ]
    },
    {
      "cell_type": "markdown",
      "source": [
        "## Declaração do objeto que representa o modelo matemático"
      ],
      "metadata": {
        "id": "jLTWbMp502iW"
      }
    },
    {
      "cell_type": "code",
      "source": [
        "modelo = pulp.LpProblem('producao_camisetas', pulp.LpMinimize)"
      ],
      "metadata": {
        "id": "zotE_qYe03kc"
      },
      "execution_count": null,
      "outputs": []
    },
    {
      "cell_type": "markdown",
      "source": [
        "## Variáveis de decisão"
      ],
      "metadata": {
        "id": "IcStjG3u1EnS"
      }
    },
    {
      "cell_type": "code",
      "source": [
        "producao = pulp.LpVariable.dicts('producao', semanas, lowBound=0)\n",
        "producao_extra = pulp.LpVariable.dicts('producao_extra', semanas, lowBound=0)\n",
        "estoque = pulp.LpVariable.dicts('estoque', semanas, lowBound=0)"
      ],
      "metadata": {
        "id": "NjKWjz3o1FqS"
      },
      "execution_count": null,
      "outputs": []
    },
    {
      "cell_type": "markdown",
      "source": [
        "## Função objetivo"
      ],
      "metadata": {
        "id": "TaH6Smz11P0M"
      }
    },
    {
      "cell_type": "code",
      "source": [
        "modelo += pulp.lpSum(custos_de_producao[semana] * producao[semana] + custos_de_producao_extra[semana] * producao_extra[semana] + 0.2 * estoque[semana] for semana in semanas)"
      ],
      "metadata": {
        "id": "l1zwf4kK1QtP"
      },
      "execution_count": null,
      "outputs": []
    },
    {
      "cell_type": "markdown",
      "source": [
        "## Restrições"
      ],
      "metadata": {
        "id": "3ruF02hT1ZrU"
      }
    },
    {
      "cell_type": "markdown",
      "source": [
        "- Restrição 1: Número máximo de camisetas que podem ser produzidas por semana."
      ],
      "metadata": {
        "id": "W9u4nrxP1iuT"
      }
    },
    {
      "cell_type": "code",
      "source": [
        "for semana in semanas:\n",
        "  modelo += producao[semana] <= 25000\n",
        "\n",
        "for semana in semanas:\n",
        "  modelo += producao_extra[semana] <= 10000\n",
        "\n",
        "# Não há produção extra nas semanas 3 e 4:\n",
        "modelo += producao_extra[3] == 0\n",
        "modelo += producao_extra[4] == 0"
      ],
      "metadata": {
        "id": "8qoiAtqZ1jXK"
      },
      "execution_count": null,
      "outputs": []
    },
    {
      "cell_type": "markdown",
      "source": [
        "- Restrição 2: Controle de estoque e demanda"
      ],
      "metadata": {
        "id": "tHUQ53YX14al"
      }
    },
    {
      "cell_type": "code",
      "source": [
        "for semana in semanas:\n",
        "  if semana > 1:\n",
        "    modelo += producao[semana] + producao_extra[semana] + estoque[semana-1] - demanda[semana] == estoque[semana]\n",
        "  else:\n",
        "    modelo += producao[semana] + producao_extra[semana] - demanda[semana] == estoque[semana]"
      ],
      "metadata": {
        "id": "i7lapR8016w-"
      },
      "execution_count": null,
      "outputs": []
    },
    {
      "cell_type": "markdown",
      "source": [
        "### Resolvendo o problema"
      ],
      "metadata": {
        "id": "pfRf8C5C2ntj"
      }
    },
    {
      "cell_type": "code",
      "source": [
        "status = modelo.solve()"
      ],
      "metadata": {
        "id": "BajSHhoY2oeL"
      },
      "execution_count": null,
      "outputs": []
    },
    {
      "cell_type": "markdown",
      "source": [
        "## Imprimindo as soluções do problema"
      ],
      "metadata": {
        "id": "XLC2Ehin2s6g"
      }
    },
    {
      "cell_type": "code",
      "source": [
        "print('status: ', pulp.LpStatus[status])\n",
        "print('funcao objetivo: ', modelo.objective.value())\n",
        "for semana in semanas:\n",
        "  print('\\nsemana:', semana)\n",
        "  print('camisas produzidas:', producao[semana].value())\n",
        "  print('camisas produzidas em hora extra:', producao_extra[semana].value())\n",
        "  print('camisas estocadas:', estoque[semana].value())\n",
        "  print('custo de produção da semana:', producao[semana].value()*custos_de_producao[semana] + producao_extra[semana].value()*custos_de_producao_extra[semana])"
      ],
      "metadata": {
        "colab": {
          "base_uri": "https://localhost:8080/"
        },
        "id": "_FAaQRkJ2t8h",
        "outputId": "c9f36bac-d0a6-4bf4-fec9-ca2144f5c24a"
      },
      "execution_count": null,
      "outputs": [
        {
          "output_type": "stream",
          "name": "stdout",
          "text": [
            "status:  Optimal\n",
            "funcao objetivo:  258000.0\n",
            "\n",
            "semana: 1\n",
            "camisas produzidas: 25000.0\n",
            "camisas produzidas em hora extra: 0.0\n",
            "camisas estocadas: 20000.0\n",
            "custo de produção da semana: 50000.0\n",
            "\n",
            "semana: 2\n",
            "camisas produzidas: 25000.0\n",
            "camisas produzidas em hora extra: 5000.0\n",
            "camisas estocadas: 40000.0\n",
            "custo de produção da semana: 64000.0\n",
            "\n",
            "semana: 3\n",
            "camisas produzidas: 25000.0\n",
            "camisas produzidas em hora extra: 0.0\n",
            "camisas estocadas: 35000.0\n",
            "custo de produção da semana: 62500.0\n",
            "\n",
            "semana: 4\n",
            "camisas produzidas: 25000.0\n",
            "camisas produzidas em hora extra: 0.0\n",
            "camisas estocadas: 0.0\n",
            "custo de produção da semana: 62500.0\n"
          ]
        }
      ]
    }
  ]
}