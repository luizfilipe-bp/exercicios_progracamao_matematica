{
  "nbformat": 4,
  "nbformat_minor": 0,
  "metadata": {
    "colab": {
      "provenance": []
    },
    "kernelspec": {
      "name": "python3",
      "display_name": "Python 3"
    },
    "language_info": {
      "name": "python"
    }
  },
  "cells": [
    {
      "cell_type": "markdown",
      "source": [
        "# Alunos\n",
        "\n",
        "| Nome                        | Matrícula |\n",
        "|-----------------------------|-----------|\n",
        "| Luiz Filipe Bartelega Penha | 202111082 |\n",
        "| Vitor Pires Zini            | 202110169 |"
      ],
      "metadata": {
        "id": "I00uxtBdTxrR"
      }
    },
    {
      "cell_type": "markdown",
      "source": [
        "# Problema 3"
      ],
      "metadata": {
        "id": "Kh_7V1Rtk7g6"
      }
    },
    {
      "cell_type": "markdown",
      "source": [
        " A cidade de União Paulista enfrenta uma séria carência orçamentária. Em busca de uma solução de longo prazo, a câmara de vereadores da cidade aprova uma melhoria da base da cobrança de impostos que prevê a condenação de uma área habitacional do centro da cidade e sua substituição por um conjunto habitacional moderno.\n",
        "  > O projeto envolve duas fases:\n",
        "  1. demolição das casas que estão aquém do padrão para liberar terreno para o novo projeto;\n",
        "  2. construção do novo conjunto urbano. A seguir daremos um resumo da situação.\n",
        "\n",
        "Um total de 300 casas aquém do padrão podem ser demolidas. Cada casa ocupa um lote de 0,25 acres. O custo de demolição de uma casa condenada é de \\$2.000. Os tamanhos de lotes para domicílios (unidades) simples, duplos, triplos e quádruplos são de 0,18; 0,28; 0,4 e 0,5 acres, respectivamente. Ruas, espaços abertos e instalações públicas ocupam 15% da área disponível.\n",
        " No novo conjunto habitacional, as unidades triplas e quádruplas representam no mínim 25% do total. Unidades simples devem representar no mínimo 20% de todas as unidades, e unidades duplas, no mínimo 10%. O imposto cobrado por unidade para unidades simples, duplas, triplas e quádruplas é de \\$1.000, \\$1.900, \\$2.700 e \\$3.400, respectivamente. O custo de construção por unidade domiciliar simples, dupla, tripla e quádrupla é de \\$50.000, \\$70.000, \\$130.000 e \\$160.000, respectivamente. O financiamento acordado com um banco local será de no máximo $15 milhões. Quantas unidades de cada tipo devem ser construídas para maximizar a arrecadação de impostos?\n"
      ],
      "metadata": {
        "id": "dDJK7w0BlBpc"
      }
    },
    {
      "cell_type": "markdown",
      "source": [
        "# Modelagem matemática\n",
        "\n",
        "A seguir, apresentaremos a modelagem matemática deste problema, especificando os principais elementos da modelagem de um problema de programação matemática: $(i)$ parâmetros (dados); $(ii)$ variáveis de decisão; $(iii)$ modelagem, composta por uma função objetivo, restrições do problema e restrições de domínio das variáveis de decisão."
      ],
      "metadata": {
        "id": "kh4HOLnFt9Ys"
      }
    },
    {
      "cell_type": "markdown",
      "source": [
        "## Declaração dos parâmetros\n",
        "\n",
        "* $U$: conjunto de unidades domiciliares.\n",
        "* $c_{u} \\in \\mathbb{R}_+$: custo de construção de uma unidade $u \\in U$.  \n",
        "* $i_{u} \\in \\mathbb{R}_+$: imposto de uma unidade $u \\in U$.  \n",
        "* $a_{u} \\in \\mathbb{R}_+$: area de uma unidade $u \\in U$ em acres.\n",
        "* **Área destinada a unidades domiciliares: $100\\% - 15\\% == 85\\%$**\n",
        "* **Área disponível para construção: $63.75$ acres $== 85\\%$ da área disponível**\n",
        "* **Financiamento da obra: $\\$15.000.000$**.\n",
        "* **Custo de demolição das casas antigas: $300 ⋅ \\$2000 = \\$600.000$**\n"
      ],
      "metadata": {
        "id": "GBnEHshempPV"
      }
    },
    {
      "cell_type": "code",
      "source": [
        "tipos_unidades = [1, 2, 3, 4]\n",
        "\n",
        "custos_de_construcao = {\n",
        "  1: 50000,\n",
        "  2: 70000,\n",
        "  3: 130000,\n",
        "  4: 160000,\n",
        "}\n",
        "\n",
        "impostos = {\n",
        "  1: 1000,\n",
        "  2: 1900,\n",
        "  3: 2700,\n",
        "  4: 3400,\n",
        "}\n",
        "\n",
        "areas = {\n",
        "  1: 0.18,\n",
        "  2: 0.28,\n",
        "  3: 0.4,\n",
        "  4: 0.5,\n",
        "}\n"
      ],
      "metadata": {
        "id": "4FmTDti8s46a"
      },
      "execution_count": 1,
      "outputs": []
    },
    {
      "cell_type": "markdown",
      "source": [
        "## Variáveis de decisão\n",
        "\n",
        "* $x_{u} \\ge 0$: quantidade de unidades do tipo $u \\in U$."
      ],
      "metadata": {
        "id": "0oBPyrUgrsdy"
      }
    },
    {
      "cell_type": "markdown",
      "source": [
        "## Função objetivo\n",
        "\n",
        "* Maximização da arrecadação dos impostos de unidades domiciliares: $\\max \\sum_{u \\in U} (i_{u}x_{u})$"
      ],
      "metadata": {
        "id": "Dy7125_esILJ"
      }
    },
    {
      "cell_type": "markdown",
      "source": [
        "## Restrições\n",
        "\n",
        "- Restrição 1: A construção deve atender o financiamento\n",
        "\n",
        "\\begin{equation}\n",
        "\\sum_{u \\in U} x_u*c_u \\le 14.400.000  \n",
        "\\end{equation}\n",
        "\n",
        "- Restrição 2: Restrição de área\n",
        "\\begin{equation}\n",
        "\\sum_{u \\in U} x_u*a_u \\le 85\\% * Área\n",
        "\\end{equation}\n",
        "\n",
        "- Restrição 3: Cada tipo de domicílio deve representar uma porcentagem do total de domicílios\n",
        "\n",
        "\\begin{equation}\n",
        "x_3 + x_4 \\ge 25\\% * Total\n",
        "\\end{equation}\n",
        "\\begin{equation}\n",
        "x_1 \\ge 20\\% * Total\n",
        "\\end{equation}\n",
        "\\begin{equation}\n",
        "x_2 \\ge 10\\% * Total\n",
        "\\end{equation}\n"
      ],
      "metadata": {
        "id": "O2Siqs3Ju80M"
      }
    },
    {
      "cell_type": "markdown",
      "source": [
        "#Resolvendo o Problema"
      ],
      "metadata": {
        "id": "OaMOEiNn0gsD"
      }
    },
    {
      "cell_type": "markdown",
      "source": [
        "## Instalação da biblioteca PuLP"
      ],
      "metadata": {
        "id": "y61N8uhP0npX"
      }
    },
    {
      "cell_type": "code",
      "source": [
        "!pip install pulp\n",
        "import pulp"
      ],
      "metadata": {
        "colab": {
          "base_uri": "https://localhost:8080/"
        },
        "id": "H_xIoAoM0uJs",
        "outputId": "09fe50e7-0425-4be8-c893-9c9bb6597cc3"
      },
      "execution_count": 2,
      "outputs": [
        {
          "output_type": "stream",
          "name": "stdout",
          "text": [
            "Collecting pulp\n",
            "  Downloading PuLP-2.9.0-py3-none-any.whl.metadata (5.4 kB)\n",
            "Downloading PuLP-2.9.0-py3-none-any.whl (17.7 MB)\n",
            "\u001b[2K   \u001b[90m━━━━━━━━━━━━━━━━━━━━━━━━━━━━━━━━━━━━━━━━\u001b[0m \u001b[32m17.7/17.7 MB\u001b[0m \u001b[31m39.8 MB/s\u001b[0m eta \u001b[36m0:00:00\u001b[0m\n",
            "\u001b[?25hInstalling collected packages: pulp\n",
            "Successfully installed pulp-2.9.0\n"
          ]
        }
      ]
    },
    {
      "cell_type": "markdown",
      "source": [
        "## Declaração do objeto que representa o modelo matemático"
      ],
      "metadata": {
        "id": "jLTWbMp502iW"
      }
    },
    {
      "cell_type": "code",
      "source": [
        "modelo = pulp.LpProblem('arrecadacao_impostos', pulp.LpMaximize)"
      ],
      "metadata": {
        "id": "zotE_qYe03kc"
      },
      "execution_count": 3,
      "outputs": []
    },
    {
      "cell_type": "markdown",
      "source": [
        "## Variáveis de decisão"
      ],
      "metadata": {
        "id": "IcStjG3u1EnS"
      }
    },
    {
      "cell_type": "code",
      "source": [
        "quantidade_unidades = pulp.LpVariable.dicts('unidades', tipos_unidades, lowBound=0, cat='Integer')"
      ],
      "metadata": {
        "id": "NjKWjz3o1FqS"
      },
      "execution_count": 4,
      "outputs": []
    },
    {
      "cell_type": "markdown",
      "source": [
        "## Função objetivo"
      ],
      "metadata": {
        "id": "TaH6Smz11P0M"
      }
    },
    {
      "cell_type": "code",
      "source": [
        "modelo += pulp.lpSum([quantidade_unidades[tipo_unidade] * impostos[tipo_unidade]] for tipo_unidade in tipos_unidades)"
      ],
      "metadata": {
        "id": "l1zwf4kK1QtP"
      },
      "execution_count": 5,
      "outputs": []
    },
    {
      "cell_type": "markdown",
      "source": [
        "## Restrições"
      ],
      "metadata": {
        "id": "3ruF02hT1ZrU"
      }
    },
    {
      "cell_type": "markdown",
      "source": [
        "- Restrição 1: A construção deve atender o financiamento"
      ],
      "metadata": {
        "id": "W9u4nrxP1iuT"
      }
    },
    {
      "cell_type": "code",
      "source": [
        "soma = 0\n",
        "for tipo_unidade in tipos_unidades:\n",
        "  soma += quantidade_unidades[tipo_unidade]*custos_de_construcao[tipo_unidade]\n",
        "\n",
        "modelo += soma <= 14400000 # 15 milhões - Custo de demolição (600.000)"
      ],
      "metadata": {
        "id": "8qoiAtqZ1jXK"
      },
      "execution_count": 6,
      "outputs": []
    },
    {
      "cell_type": "markdown",
      "source": [
        "- Restrições 2 e 3: Restrições de área e mínimo de domicílios"
      ],
      "metadata": {
        "id": "tHUQ53YX14al"
      }
    },
    {
      "cell_type": "code",
      "source": [
        "soma_area = 0\n",
        "quantidade_total_domilicios = 0\n",
        "\n",
        "for tipo_unidade in tipos_unidades:\n",
        "  soma_area += quantidade_unidades[tipo_unidade]*areas[tipo_unidade]\n",
        "  quantidade_total_domilicios += quantidade_unidades[tipo_unidade]\n",
        "\n",
        "modelo += soma_area <= 300 * 0.25 * 0.85 # 85% da área disponível após a demolição das casas.\n",
        "\n",
        "modelo += quantidade_unidades[3]+quantidade_unidades[4] >= 0.25 * quantidade_total_domilicios # 25% do total\n",
        "\n",
        "modelo += quantidade_unidades[1] >= 0.2 * quantidade_total_domilicios # 20% do total\n",
        "\n",
        "modelo += quantidade_unidades[2] >= 0.1 * quantidade_total_domilicios # 10% do total"
      ],
      "metadata": {
        "id": "i7lapR8016w-"
      },
      "execution_count": 7,
      "outputs": []
    },
    {
      "cell_type": "markdown",
      "source": [
        "### Resolvendo o problema"
      ],
      "metadata": {
        "id": "pfRf8C5C2ntj"
      }
    },
    {
      "cell_type": "code",
      "source": [
        "status = modelo.solve()"
      ],
      "metadata": {
        "id": "BajSHhoY2oeL"
      },
      "execution_count": 8,
      "outputs": []
    },
    {
      "cell_type": "markdown",
      "source": [
        "## Imprimindo as soluções do problema"
      ],
      "metadata": {
        "id": "XLC2Ehin2s6g"
      }
    },
    {
      "cell_type": "code",
      "source": [
        "print('status: ', pulp.LpStatus[status])\n",
        "print('funcao objetivo: ', modelo.objective.value())\n",
        "for tipo in tipos_unidades:\n",
        "  print('\\nUnidade:', tipo)\n",
        "  print('Quantidade de unidades:', quantidade_unidades[tipo].value())\n",
        "  print('Área ocupada:', round(quantidade_unidades[tipo].value()*areas[tipo], 2), 'acres')\n",
        "  print('Custo de construção desse tipo:', round(quantidade_unidades[tipo].value()*custos_de_construcao[tipo], 2))\n",
        "  print('Imposto arrecadado por esse tipo:', round(quantidade_unidades[tipo].value()*impostos[tipo], 2))"
      ],
      "metadata": {
        "colab": {
          "base_uri": "https://localhost:8080/"
        },
        "id": "_FAaQRkJ2t8h",
        "outputId": "3334d4c7-a4d9-46dc-b0bb-e29199cce797"
      },
      "execution_count": 9,
      "outputs": [
        {
          "output_type": "stream",
          "name": "stdout",
          "text": [
            "status:  Optimal\n",
            "funcao objetivo:  341100.0\n",
            "\n",
            "Unidade: 1\n",
            "Quantidade de unidades: 35.0\n",
            "Área ocupada: 6.3 acres\n",
            "Custo de construção desse tipo: 1750000.0\n",
            "Imposto arrecadado por esse tipo: 35000.0\n",
            "\n",
            "Unidade: 2\n",
            "Quantidade de unidades: 96.0\n",
            "Área ocupada: 26.88 acres\n",
            "Custo de construção desse tipo: 6720000.0\n",
            "Imposto arrecadado por esse tipo: 182400.0\n",
            "\n",
            "Unidade: 3\n",
            "Quantidade de unidades: 37.0\n",
            "Área ocupada: 14.8 acres\n",
            "Custo de construção desse tipo: 4810000.0\n",
            "Imposto arrecadado por esse tipo: 99900.0\n",
            "\n",
            "Unidade: 4\n",
            "Quantidade de unidades: 7.0\n",
            "Área ocupada: 3.5 acres\n",
            "Custo de construção desse tipo: 1120000.0\n",
            "Imposto arrecadado por esse tipo: 23800.0\n"
          ]
        }
      ]
    }
  ]
}